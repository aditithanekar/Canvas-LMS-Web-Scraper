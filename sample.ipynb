{
 "cells": [
  {
   "cell_type": "code",
   "execution_count": null,
   "metadata": {},
   "outputs": [
    {
     "name": "stderr",
     "output_type": "stream",
     "text": [
      "/var/folders/hq/zydtttq12xq05qpxw71t17200000gn/T/ipykernel_7679/625575542.py:1: DeprecationWarning: \n",
      "Pyarrow will become a required dependency of pandas in the next major release of pandas (pandas 3.0),\n",
      "(to allow more performant data types, such as the Arrow string type, and better interoperability with other libraries)\n",
      "but was not found to be installed on your system.\n",
      "If this would cause problems for you,\n",
      "please provide us feedback at https://github.com/pandas-dev/pandas/issues/54466\n",
      "        \n",
      "  import pandas as pd\n"
     ]
    }
   ],
   "source": [
    "import pandas as pd\n",
    "\n",
    "canvas = pd.read_csv(\"/Users/shahdivyank/Desktop/Canvas-LMS-Web-Scraper/canvas/2025-03-18T0528_Grades-CS_010C_001_25W.csv\")"
   ]
  },
  {
   "cell_type": "code",
   "execution_count": null,
   "metadata": {},
   "outputs": [
    {
     "name": "stdout",
     "output_type": "stream",
     "text": [
      "zybooks/UCRCS010CMillerWinter2025_Chapter_10_Reading_report_2025-03-15_2122.csv\n",
      "Chapter 10 Readings (795701) 42\n",
      "zybooks/UCRCS010CMillerWinter2025_Chapter_9_Challenges_report_2025-03-15_2121.csv\n",
      "Chapter 9 Readings (795717) 0\n",
      "zybooks/UCRCS010CMillerWinter2025_Chapter_8_Challenges_report_2025-03-15_2121.csv\n",
      "Chapter 8 Readings (795715) 0\n",
      "zybooks/UCRCS010CMillerWinter2025_Chapter_8_Reading_Part_II_report_2025-03-15_2121.csv\n",
      "Chapter 8 Readings (795715) 66\n",
      "zybooks/UCRCS010CMillerWinter2025_Chapter_5_Reading_Part_I_report_2025-03-15_2120.csv\n",
      "Chapter 5 Readings (795709) 53\n",
      "zybooks/UCRCS010CMillerWinter2025_Chapter_9_Reading_Part_II_report_2025-03-15_2121.csv\n",
      "Chapter 9 Readings (795717) 51\n",
      "zybooks/UCRCS010CMillerWinter2025_Chapter_7_Challenges_report_2025-03-15_2121.csv\n",
      "Chapter 7 Readings (795713) 0\n",
      "zybooks/UCRCS010CMillerWinter2025_Chapter_5_Challenges_report_2025-03-15_2120.csv\n",
      "Chapter 5 Readings (795709) 0\n",
      "zybooks/UCRCS010CMillerWinter2025_Chapter_6_Challenges_report_2025-03-15_2121.csv\n",
      "Chapter 6 Readings (795711) 0\n",
      "zybooks/UCRCS010CMillerWinter2025_Chapter_7_Reading_Part_II_report_2025-03-15_2121.csv\n",
      "Chapter 7 Readings (795713) 48\n",
      "zybooks/UCRCS010CMillerWinter2025_Chapter_5_Reading_Part_II_report_2025-03-15_2120.csv\n",
      "Chapter 5 Readings (795709) 118\n",
      "zybooks/UCRCS010CMillerWinter2025_Chapter_8_Reading_Part_I_report_2025-03-15_2121.csv\n",
      "Chapter 8 Readings (795715) 71\n",
      "zybooks/UCRCS010CMillerWinter2025_Chapter_9_Reading_Part_I_report_2025-03-15_2121.csv\n",
      "Chapter 9 Readings (795717) 43\n",
      "zybooks/UCRCS010CMillerWinter2025_Chapter_10_Challenges_report_2025-03-15_2122.csv\n",
      "Chapter 10 Readings (795701) 0\n",
      "zybooks/UCRCS010CMillerWinter2025_Chapter_6_Reading_Part_II_report_2025-03-15_2121.csv\n",
      "Chapter 6 Readings (795711) 44\n",
      "zybooks/UCRCS010CMillerWinter2025_Chapter_7_Reading_Part_I_report_2025-03-15_2121.csv\n",
      "Chapter 7 Readings (795713) 62\n",
      "zybooks/UCRCS010CMillerWinter2025_Chapter_6_Reading_Part_I_report_2025-03-15_2120.csv\n",
      "Chapter 6 Readings (795711) 54\n"
     ]
    }
   ],
   "source": []
  },
  {
   "cell_type": "code",
   "execution_count": 59,
   "metadata": {},
   "outputs": [
    {
     "data": {
      "text/plain": [
       "174    54.0\n",
       "Name: Chapter 6 Readings (795711), dtype: float64"
      ]
     },
     "execution_count": 59,
     "metadata": {},
     "output_type": "execute_result"
    }
   ],
   "source": [
    "merge[merge[\"SIS Login ID\"] == \"byun008\"][reading_name]"
   ]
  },
  {
   "cell_type": "code",
   "execution_count": 60,
   "metadata": {},
   "outputs": [
    {
     "data": {
      "text/html": [
       "<div>\n",
       "<style scoped>\n",
       "    .dataframe tbody tr th:only-of-type {\n",
       "        vertical-align: middle;\n",
       "    }\n",
       "\n",
       "    .dataframe tbody tr th {\n",
       "        vertical-align: top;\n",
       "    }\n",
       "\n",
       "    .dataframe thead th {\n",
       "        text-align: right;\n",
       "    }\n",
       "</style>\n",
       "<table border=\"1\" class=\"dataframe\">\n",
       "  <thead>\n",
       "    <tr style=\"text-align: right;\">\n",
       "      <th></th>\n",
       "      <th>SIS Login ID</th>\n",
       "      <th>Chapter 6 Readings (795711)</th>\n",
       "    </tr>\n",
       "  </thead>\n",
       "  <tbody>\n",
       "    <tr>\n",
       "      <th>0</th>\n",
       "      <td>aabuh001</td>\n",
       "      <td>54.0</td>\n",
       "    </tr>\n",
       "    <tr>\n",
       "      <th>1</th>\n",
       "      <td>mali055</td>\n",
       "      <td>54.0</td>\n",
       "    </tr>\n",
       "    <tr>\n",
       "      <th>2</th>\n",
       "      <td>samaj001</td>\n",
       "      <td>0.0</td>\n",
       "    </tr>\n",
       "    <tr>\n",
       "      <th>3</th>\n",
       "      <td>damin007</td>\n",
       "      <td>0.0</td>\n",
       "    </tr>\n",
       "    <tr>\n",
       "      <th>4</th>\n",
       "      <td>aanub001</td>\n",
       "      <td>54.0</td>\n",
       "    </tr>\n",
       "    <tr>\n",
       "      <th>...</th>\n",
       "      <td>...</td>\n",
       "      <td>...</td>\n",
       "    </tr>\n",
       "    <tr>\n",
       "      <th>187</th>\n",
       "      <td>byun008</td>\n",
       "      <td>54.0</td>\n",
       "    </tr>\n",
       "    <tr>\n",
       "      <th>188</th>\n",
       "      <td>jzhan691</td>\n",
       "      <td>54.0</td>\n",
       "    </tr>\n",
       "    <tr>\n",
       "      <th>189</th>\n",
       "      <td>azhou077</td>\n",
       "      <td>54.0</td>\n",
       "    </tr>\n",
       "    <tr>\n",
       "      <th>190</th>\n",
       "      <td>gzhu018</td>\n",
       "      <td>54.0</td>\n",
       "    </tr>\n",
       "    <tr>\n",
       "      <th>191</th>\n",
       "      <td>jzhu189</td>\n",
       "      <td>54.0</td>\n",
       "    </tr>\n",
       "  </tbody>\n",
       "</table>\n",
       "<p>192 rows × 2 columns</p>\n",
       "</div>"
      ],
      "text/plain": [
       "    SIS Login ID  Chapter 6 Readings (795711)\n",
       "0       aabuh001                         54.0\n",
       "1        mali055                         54.0\n",
       "2       samaj001                          0.0\n",
       "3       damin007                          0.0\n",
       "4       aanub001                         54.0\n",
       "..           ...                          ...\n",
       "187      byun008                         54.0\n",
       "188     jzhan691                         54.0\n",
       "189     azhou077                         54.0\n",
       "190      gzhu018                         54.0\n",
       "191      jzhu189                         54.0\n",
       "\n",
       "[192 rows x 2 columns]"
      ]
     },
     "execution_count": 60,
     "metadata": {},
     "output_type": "execute_result"
    }
   ],
   "source": [
    "zybooks_data[[\"SIS Login ID\", reading_name]]"
   ]
  },
  {
   "cell_type": "code",
   "execution_count": null,
   "metadata": {},
   "outputs": [],
   "source": []
  }
 ],
 "metadata": {
  "kernelspec": {
   "display_name": "Python 3",
   "language": "python",
   "name": "python3"
  },
  "language_info": {
   "codemirror_mode": {
    "name": "ipython",
    "version": 3
   },
   "file_extension": ".py",
   "mimetype": "text/x-python",
   "name": "python",
   "nbconvert_exporter": "python",
   "pygments_lexer": "ipython3",
   "version": "3.12.3"
  }
 },
 "nbformat": 4,
 "nbformat_minor": 2
}
